{
  "nbformat": 4,
  "nbformat_minor": 0,
  "metadata": {
    "colab": {
      "name": "Copy of Assignment2.ipynb",
      "provenance": [],
      "collapsed_sections": []
    },
    "kernelspec": {
      "name": "python3",
      "display_name": "Python 3"
    },
    "language_info": {
      "name": "python"
    }
  },
  "cells": [
    {
      "cell_type": "code",
      "metadata": {
        "colab": {
          "resources": {
            "http://localhost:8080/nbextensions/google.colab/files.js": {
              "data": "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",
              "ok": true,
              "headers": [
                [
                  "content-type",
                  "application/javascript"
                ]
              ],
              "status": 200,
              "status_text": ""
            }
          },
          "base_uri": "https://localhost:8080/",
          "height": 181
        },
        "id": "YdYY8KBTDvBI",
        "outputId": "1c2247cb-df09-4905-d35c-f88f55e8b6bf"
      },
      "source": [
        "from google.colab import files\n",
        "uploaded = files.upload()"
      ],
      "execution_count": 4,
      "outputs": [
        {
          "output_type": "display_data",
          "data": {
            "text/html": [
              "\n",
              "     <input type=\"file\" id=\"files-481cd736-4716-42d5-a3ed-c95cd4d89e64\" name=\"files[]\" multiple disabled\n",
              "        style=\"border:none\" />\n",
              "     <output id=\"result-481cd736-4716-42d5-a3ed-c95cd4d89e64\">\n",
              "      Upload widget is only available when the cell has been executed in the\n",
              "      current browser session. Please rerun this cell to enable.\n",
              "      </output>\n",
              "      <script src=\"/nbextensions/google.colab/files.js\"></script> "
            ],
            "text/plain": [
              "<IPython.core.display.HTML object>"
            ]
          },
          "metadata": {}
        },
        {
          "output_type": "stream",
          "name": "stdout",
          "text": [
            "Saving links.csv to links (1).csv\n",
            "Saving movies.csv to movies (1).csv\n",
            "Saving ratings.csv to ratings (1).csv\n",
            "Saving tags.csv to tags (1).csv\n"
          ]
        }
      ]
    },
    {
      "cell_type": "code",
      "metadata": {
        "id": "6xYZwXKGIAbH"
      },
      "source": [
        "import pandas as pd\n",
        "import numpy as np\n",
        "import seaborn as sns\n",
        "import matplotlib.pyplot as plt \n",
        "\n",
        "%matplotlib inline \n",
        "sns.set(color_codes=True)\n",
        "\n",
        "import io\n",
        "\n",
        "df_m = pd.read_csv(io.BytesIO(uploaded['movies.csv']))\n",
        "df_l = pd.read_csv(io.BytesIO(uploaded['links.csv']))\n",
        "df_r = pd.read_csv(io.BytesIO(uploaded['ratings.csv']))\n",
        "df_t = pd.read_csv(io.BytesIO(uploaded['tags.csv']))"
      ],
      "execution_count": 74,
      "outputs": []
    },
    {
      "cell_type": "code",
      "metadata": {
        "id": "Wy3KEf6KF_k7"
      },
      "source": [
        "id_to_title = dict()\n",
        "for index, x in df_m.iterrows():\n",
        "  id_to_title[x['movieId']] = x['title']\n",
        "\n",
        "title_to_id = dict()\n",
        "for index, x in df_m.iterrows():\n",
        "  title_to_id[x['title']] = x['movieId']\n",
        "\n",
        "id_to_genre = dict()\n",
        "for index, x in df_m.iterrows():\n",
        "  id_to_genre[x['movieId']] = x['genres']"
      ],
      "execution_count": 75,
      "outputs": []
    },
    {
      "cell_type": "code",
      "metadata": {
        "colab": {
          "base_uri": "https://localhost:8080/",
          "height": 423
        },
        "id": "L1j3ud6RLnsd",
        "outputId": "0aad2811-eff8-4bfd-8316-5981a96f78d0"
      },
      "source": [
        "df_m"
      ],
      "execution_count": 76,
      "outputs": [
        {
          "output_type": "execute_result",
          "data": {
            "text/html": [
              "<div>\n",
              "<style scoped>\n",
              "    .dataframe tbody tr th:only-of-type {\n",
              "        vertical-align: middle;\n",
              "    }\n",
              "\n",
              "    .dataframe tbody tr th {\n",
              "        vertical-align: top;\n",
              "    }\n",
              "\n",
              "    .dataframe thead th {\n",
              "        text-align: right;\n",
              "    }\n",
              "</style>\n",
              "<table border=\"1\" class=\"dataframe\">\n",
              "  <thead>\n",
              "    <tr style=\"text-align: right;\">\n",
              "      <th></th>\n",
              "      <th>movieId</th>\n",
              "      <th>title</th>\n",
              "      <th>genres</th>\n",
              "    </tr>\n",
              "  </thead>\n",
              "  <tbody>\n",
              "    <tr>\n",
              "      <th>0</th>\n",
              "      <td>1</td>\n",
              "      <td>Toy Story (1995)</td>\n",
              "      <td>Adventure|Animation|Children|Comedy|Fantasy</td>\n",
              "    </tr>\n",
              "    <tr>\n",
              "      <th>1</th>\n",
              "      <td>2</td>\n",
              "      <td>Jumanji (1995)</td>\n",
              "      <td>Adventure|Children|Fantasy</td>\n",
              "    </tr>\n",
              "    <tr>\n",
              "      <th>2</th>\n",
              "      <td>3</td>\n",
              "      <td>Grumpier Old Men (1995)</td>\n",
              "      <td>Comedy|Romance</td>\n",
              "    </tr>\n",
              "    <tr>\n",
              "      <th>3</th>\n",
              "      <td>4</td>\n",
              "      <td>Waiting to Exhale (1995)</td>\n",
              "      <td>Comedy|Drama|Romance</td>\n",
              "    </tr>\n",
              "    <tr>\n",
              "      <th>4</th>\n",
              "      <td>5</td>\n",
              "      <td>Father of the Bride Part II (1995)</td>\n",
              "      <td>Comedy</td>\n",
              "    </tr>\n",
              "    <tr>\n",
              "      <th>...</th>\n",
              "      <td>...</td>\n",
              "      <td>...</td>\n",
              "      <td>...</td>\n",
              "    </tr>\n",
              "    <tr>\n",
              "      <th>9737</th>\n",
              "      <td>193581</td>\n",
              "      <td>Black Butler: Book of the Atlantic (2017)</td>\n",
              "      <td>Action|Animation|Comedy|Fantasy</td>\n",
              "    </tr>\n",
              "    <tr>\n",
              "      <th>9738</th>\n",
              "      <td>193583</td>\n",
              "      <td>No Game No Life: Zero (2017)</td>\n",
              "      <td>Animation|Comedy|Fantasy</td>\n",
              "    </tr>\n",
              "    <tr>\n",
              "      <th>9739</th>\n",
              "      <td>193585</td>\n",
              "      <td>Flint (2017)</td>\n",
              "      <td>Drama</td>\n",
              "    </tr>\n",
              "    <tr>\n",
              "      <th>9740</th>\n",
              "      <td>193587</td>\n",
              "      <td>Bungo Stray Dogs: Dead Apple (2018)</td>\n",
              "      <td>Action|Animation</td>\n",
              "    </tr>\n",
              "    <tr>\n",
              "      <th>9741</th>\n",
              "      <td>193609</td>\n",
              "      <td>Andrew Dice Clay: Dice Rules (1991)</td>\n",
              "      <td>Comedy</td>\n",
              "    </tr>\n",
              "  </tbody>\n",
              "</table>\n",
              "<p>9742 rows × 3 columns</p>\n",
              "</div>"
            ],
            "text/plain": [
              "      movieId  ...                                       genres\n",
              "0           1  ...  Adventure|Animation|Children|Comedy|Fantasy\n",
              "1           2  ...                   Adventure|Children|Fantasy\n",
              "2           3  ...                               Comedy|Romance\n",
              "3           4  ...                         Comedy|Drama|Romance\n",
              "4           5  ...                                       Comedy\n",
              "...       ...  ...                                          ...\n",
              "9737   193581  ...              Action|Animation|Comedy|Fantasy\n",
              "9738   193583  ...                     Animation|Comedy|Fantasy\n",
              "9739   193585  ...                                        Drama\n",
              "9740   193587  ...                             Action|Animation\n",
              "9741   193609  ...                                       Comedy\n",
              "\n",
              "[9742 rows x 3 columns]"
            ]
          },
          "metadata": {},
          "execution_count": 76
        }
      ]
    },
    {
      "cell_type": "code",
      "metadata": {
        "colab": {
          "base_uri": "https://localhost:8080/",
          "height": 423
        },
        "id": "i91yB6P2LsiT",
        "outputId": "d49e8602-8bef-4309-c05e-8b26a2f54c24"
      },
      "source": [
        "df_l"
      ],
      "execution_count": 77,
      "outputs": [
        {
          "output_type": "execute_result",
          "data": {
            "text/html": [
              "<div>\n",
              "<style scoped>\n",
              "    .dataframe tbody tr th:only-of-type {\n",
              "        vertical-align: middle;\n",
              "    }\n",
              "\n",
              "    .dataframe tbody tr th {\n",
              "        vertical-align: top;\n",
              "    }\n",
              "\n",
              "    .dataframe thead th {\n",
              "        text-align: right;\n",
              "    }\n",
              "</style>\n",
              "<table border=\"1\" class=\"dataframe\">\n",
              "  <thead>\n",
              "    <tr style=\"text-align: right;\">\n",
              "      <th></th>\n",
              "      <th>movieId</th>\n",
              "      <th>imdbId</th>\n",
              "      <th>tmdbId</th>\n",
              "    </tr>\n",
              "  </thead>\n",
              "  <tbody>\n",
              "    <tr>\n",
              "      <th>0</th>\n",
              "      <td>1</td>\n",
              "      <td>114709</td>\n",
              "      <td>862.0</td>\n",
              "    </tr>\n",
              "    <tr>\n",
              "      <th>1</th>\n",
              "      <td>2</td>\n",
              "      <td>113497</td>\n",
              "      <td>8844.0</td>\n",
              "    </tr>\n",
              "    <tr>\n",
              "      <th>2</th>\n",
              "      <td>3</td>\n",
              "      <td>113228</td>\n",
              "      <td>15602.0</td>\n",
              "    </tr>\n",
              "    <tr>\n",
              "      <th>3</th>\n",
              "      <td>4</td>\n",
              "      <td>114885</td>\n",
              "      <td>31357.0</td>\n",
              "    </tr>\n",
              "    <tr>\n",
              "      <th>4</th>\n",
              "      <td>5</td>\n",
              "      <td>113041</td>\n",
              "      <td>11862.0</td>\n",
              "    </tr>\n",
              "    <tr>\n",
              "      <th>...</th>\n",
              "      <td>...</td>\n",
              "      <td>...</td>\n",
              "      <td>...</td>\n",
              "    </tr>\n",
              "    <tr>\n",
              "      <th>9737</th>\n",
              "      <td>193581</td>\n",
              "      <td>5476944</td>\n",
              "      <td>432131.0</td>\n",
              "    </tr>\n",
              "    <tr>\n",
              "      <th>9738</th>\n",
              "      <td>193583</td>\n",
              "      <td>5914996</td>\n",
              "      <td>445030.0</td>\n",
              "    </tr>\n",
              "    <tr>\n",
              "      <th>9739</th>\n",
              "      <td>193585</td>\n",
              "      <td>6397426</td>\n",
              "      <td>479308.0</td>\n",
              "    </tr>\n",
              "    <tr>\n",
              "      <th>9740</th>\n",
              "      <td>193587</td>\n",
              "      <td>8391976</td>\n",
              "      <td>483455.0</td>\n",
              "    </tr>\n",
              "    <tr>\n",
              "      <th>9741</th>\n",
              "      <td>193609</td>\n",
              "      <td>101726</td>\n",
              "      <td>37891.0</td>\n",
              "    </tr>\n",
              "  </tbody>\n",
              "</table>\n",
              "<p>9742 rows × 3 columns</p>\n",
              "</div>"
            ],
            "text/plain": [
              "      movieId   imdbId    tmdbId\n",
              "0           1   114709     862.0\n",
              "1           2   113497    8844.0\n",
              "2           3   113228   15602.0\n",
              "3           4   114885   31357.0\n",
              "4           5   113041   11862.0\n",
              "...       ...      ...       ...\n",
              "9737   193581  5476944  432131.0\n",
              "9738   193583  5914996  445030.0\n",
              "9739   193585  6397426  479308.0\n",
              "9740   193587  8391976  483455.0\n",
              "9741   193609   101726   37891.0\n",
              "\n",
              "[9742 rows x 3 columns]"
            ]
          },
          "metadata": {},
          "execution_count": 77
        }
      ]
    },
    {
      "cell_type": "code",
      "metadata": {
        "colab": {
          "base_uri": "https://localhost:8080/",
          "height": 423
        },
        "id": "JX7m0b4fLsaU",
        "outputId": "fcd29b0c-2c10-4380-b72a-58a3b7bf51a6"
      },
      "source": [
        "df_r"
      ],
      "execution_count": 78,
      "outputs": [
        {
          "output_type": "execute_result",
          "data": {
            "text/html": [
              "<div>\n",
              "<style scoped>\n",
              "    .dataframe tbody tr th:only-of-type {\n",
              "        vertical-align: middle;\n",
              "    }\n",
              "\n",
              "    .dataframe tbody tr th {\n",
              "        vertical-align: top;\n",
              "    }\n",
              "\n",
              "    .dataframe thead th {\n",
              "        text-align: right;\n",
              "    }\n",
              "</style>\n",
              "<table border=\"1\" class=\"dataframe\">\n",
              "  <thead>\n",
              "    <tr style=\"text-align: right;\">\n",
              "      <th></th>\n",
              "      <th>userId</th>\n",
              "      <th>movieId</th>\n",
              "      <th>rating</th>\n",
              "      <th>timestamp</th>\n",
              "    </tr>\n",
              "  </thead>\n",
              "  <tbody>\n",
              "    <tr>\n",
              "      <th>0</th>\n",
              "      <td>1</td>\n",
              "      <td>1</td>\n",
              "      <td>4.0</td>\n",
              "      <td>964982703</td>\n",
              "    </tr>\n",
              "    <tr>\n",
              "      <th>1</th>\n",
              "      <td>1</td>\n",
              "      <td>3</td>\n",
              "      <td>4.0</td>\n",
              "      <td>964981247</td>\n",
              "    </tr>\n",
              "    <tr>\n",
              "      <th>2</th>\n",
              "      <td>1</td>\n",
              "      <td>6</td>\n",
              "      <td>4.0</td>\n",
              "      <td>964982224</td>\n",
              "    </tr>\n",
              "    <tr>\n",
              "      <th>3</th>\n",
              "      <td>1</td>\n",
              "      <td>47</td>\n",
              "      <td>5.0</td>\n",
              "      <td>964983815</td>\n",
              "    </tr>\n",
              "    <tr>\n",
              "      <th>4</th>\n",
              "      <td>1</td>\n",
              "      <td>50</td>\n",
              "      <td>5.0</td>\n",
              "      <td>964982931</td>\n",
              "    </tr>\n",
              "    <tr>\n",
              "      <th>...</th>\n",
              "      <td>...</td>\n",
              "      <td>...</td>\n",
              "      <td>...</td>\n",
              "      <td>...</td>\n",
              "    </tr>\n",
              "    <tr>\n",
              "      <th>100831</th>\n",
              "      <td>610</td>\n",
              "      <td>166534</td>\n",
              "      <td>4.0</td>\n",
              "      <td>1493848402</td>\n",
              "    </tr>\n",
              "    <tr>\n",
              "      <th>100832</th>\n",
              "      <td>610</td>\n",
              "      <td>168248</td>\n",
              "      <td>5.0</td>\n",
              "      <td>1493850091</td>\n",
              "    </tr>\n",
              "    <tr>\n",
              "      <th>100833</th>\n",
              "      <td>610</td>\n",
              "      <td>168250</td>\n",
              "      <td>5.0</td>\n",
              "      <td>1494273047</td>\n",
              "    </tr>\n",
              "    <tr>\n",
              "      <th>100834</th>\n",
              "      <td>610</td>\n",
              "      <td>168252</td>\n",
              "      <td>5.0</td>\n",
              "      <td>1493846352</td>\n",
              "    </tr>\n",
              "    <tr>\n",
              "      <th>100835</th>\n",
              "      <td>610</td>\n",
              "      <td>170875</td>\n",
              "      <td>3.0</td>\n",
              "      <td>1493846415</td>\n",
              "    </tr>\n",
              "  </tbody>\n",
              "</table>\n",
              "<p>100836 rows × 4 columns</p>\n",
              "</div>"
            ],
            "text/plain": [
              "        userId  movieId  rating   timestamp\n",
              "0            1        1     4.0   964982703\n",
              "1            1        3     4.0   964981247\n",
              "2            1        6     4.0   964982224\n",
              "3            1       47     5.0   964983815\n",
              "4            1       50     5.0   964982931\n",
              "...        ...      ...     ...         ...\n",
              "100831     610   166534     4.0  1493848402\n",
              "100832     610   168248     5.0  1493850091\n",
              "100833     610   168250     5.0  1494273047\n",
              "100834     610   168252     5.0  1493846352\n",
              "100835     610   170875     3.0  1493846415\n",
              "\n",
              "[100836 rows x 4 columns]"
            ]
          },
          "metadata": {},
          "execution_count": 78
        }
      ]
    },
    {
      "cell_type": "code",
      "metadata": {
        "colab": {
          "base_uri": "https://localhost:8080/",
          "height": 423
        },
        "id": "o4pkYle6LsAP",
        "outputId": "97e88be2-f530-4465-fa08-4140183b468c"
      },
      "source": [
        "df_t"
      ],
      "execution_count": 79,
      "outputs": [
        {
          "output_type": "execute_result",
          "data": {
            "text/html": [
              "<div>\n",
              "<style scoped>\n",
              "    .dataframe tbody tr th:only-of-type {\n",
              "        vertical-align: middle;\n",
              "    }\n",
              "\n",
              "    .dataframe tbody tr th {\n",
              "        vertical-align: top;\n",
              "    }\n",
              "\n",
              "    .dataframe thead th {\n",
              "        text-align: right;\n",
              "    }\n",
              "</style>\n",
              "<table border=\"1\" class=\"dataframe\">\n",
              "  <thead>\n",
              "    <tr style=\"text-align: right;\">\n",
              "      <th></th>\n",
              "      <th>userId</th>\n",
              "      <th>movieId</th>\n",
              "      <th>tag</th>\n",
              "      <th>timestamp</th>\n",
              "    </tr>\n",
              "  </thead>\n",
              "  <tbody>\n",
              "    <tr>\n",
              "      <th>0</th>\n",
              "      <td>2</td>\n",
              "      <td>60756</td>\n",
              "      <td>funny</td>\n",
              "      <td>1445714994</td>\n",
              "    </tr>\n",
              "    <tr>\n",
              "      <th>1</th>\n",
              "      <td>2</td>\n",
              "      <td>60756</td>\n",
              "      <td>Highly quotable</td>\n",
              "      <td>1445714996</td>\n",
              "    </tr>\n",
              "    <tr>\n",
              "      <th>2</th>\n",
              "      <td>2</td>\n",
              "      <td>60756</td>\n",
              "      <td>will ferrell</td>\n",
              "      <td>1445714992</td>\n",
              "    </tr>\n",
              "    <tr>\n",
              "      <th>3</th>\n",
              "      <td>2</td>\n",
              "      <td>89774</td>\n",
              "      <td>Boxing story</td>\n",
              "      <td>1445715207</td>\n",
              "    </tr>\n",
              "    <tr>\n",
              "      <th>4</th>\n",
              "      <td>2</td>\n",
              "      <td>89774</td>\n",
              "      <td>MMA</td>\n",
              "      <td>1445715200</td>\n",
              "    </tr>\n",
              "    <tr>\n",
              "      <th>...</th>\n",
              "      <td>...</td>\n",
              "      <td>...</td>\n",
              "      <td>...</td>\n",
              "      <td>...</td>\n",
              "    </tr>\n",
              "    <tr>\n",
              "      <th>3678</th>\n",
              "      <td>606</td>\n",
              "      <td>7382</td>\n",
              "      <td>for katie</td>\n",
              "      <td>1171234019</td>\n",
              "    </tr>\n",
              "    <tr>\n",
              "      <th>3679</th>\n",
              "      <td>606</td>\n",
              "      <td>7936</td>\n",
              "      <td>austere</td>\n",
              "      <td>1173392334</td>\n",
              "    </tr>\n",
              "    <tr>\n",
              "      <th>3680</th>\n",
              "      <td>610</td>\n",
              "      <td>3265</td>\n",
              "      <td>gun fu</td>\n",
              "      <td>1493843984</td>\n",
              "    </tr>\n",
              "    <tr>\n",
              "      <th>3681</th>\n",
              "      <td>610</td>\n",
              "      <td>3265</td>\n",
              "      <td>heroic bloodshed</td>\n",
              "      <td>1493843978</td>\n",
              "    </tr>\n",
              "    <tr>\n",
              "      <th>3682</th>\n",
              "      <td>610</td>\n",
              "      <td>168248</td>\n",
              "      <td>Heroic Bloodshed</td>\n",
              "      <td>1493844270</td>\n",
              "    </tr>\n",
              "  </tbody>\n",
              "</table>\n",
              "<p>3683 rows × 4 columns</p>\n",
              "</div>"
            ],
            "text/plain": [
              "      userId  movieId               tag   timestamp\n",
              "0          2    60756             funny  1445714994\n",
              "1          2    60756   Highly quotable  1445714996\n",
              "2          2    60756      will ferrell  1445714992\n",
              "3          2    89774      Boxing story  1445715207\n",
              "4          2    89774               MMA  1445715200\n",
              "...      ...      ...               ...         ...\n",
              "3678     606     7382         for katie  1171234019\n",
              "3679     606     7936           austere  1173392334\n",
              "3680     610     3265            gun fu  1493843984\n",
              "3681     610     3265  heroic bloodshed  1493843978\n",
              "3682     610   168248  Heroic Bloodshed  1493844270\n",
              "\n",
              "[3683 rows x 4 columns]"
            ]
          },
          "metadata": {},
          "execution_count": 79
        }
      ]
    },
    {
      "cell_type": "markdown",
      "metadata": {
        "id": "vi-ASPNCWnts"
      },
      "source": [
        "# Question 1"
      ]
    },
    {
      "cell_type": "markdown",
      "metadata": {
        "id": "kRybJNnEXrHy"
      },
      "source": [
        "### Counting of NaN values per column"
      ]
    },
    {
      "cell_type": "code",
      "metadata": {
        "colab": {
          "base_uri": "https://localhost:8080/"
        },
        "id": "qWkowB36jRuS",
        "outputId": "5f7bf927-fc6c-4c57-adc5-e1f5e9731363"
      },
      "source": [
        "print('\\n- movies.csv -')\n",
        "print(df_m.isnull().sum(axis=0))\n",
        "print('\\n- ratings.csv -')\n",
        "print(df_r.isnull().sum(axis=0))\n",
        "print('\\n- tags.csv -')\n",
        "print(df_t.isnull().sum(axis=0))\n",
        "print('\\n- links.csv -')\n",
        "print(df_l.isnull().sum(axis=0))"
      ],
      "execution_count": 80,
      "outputs": [
        {
          "output_type": "stream",
          "name": "stdout",
          "text": [
            "\n",
            "- movies.csv -\n",
            "movieId    0\n",
            "title      0\n",
            "genres     0\n",
            "dtype: int64\n",
            "\n",
            "- ratings.csv -\n",
            "userId       0\n",
            "movieId      0\n",
            "rating       0\n",
            "timestamp    0\n",
            "dtype: int64\n",
            "\n",
            "- tags.csv -\n",
            "userId       0\n",
            "movieId      0\n",
            "tag          0\n",
            "timestamp    0\n",
            "dtype: int64\n",
            "\n",
            "- links.csv -\n",
            "movieId    0\n",
            "imdbId     0\n",
            "tmdbId     8\n",
            "dtype: int64\n"
          ]
        }
      ]
    },
    {
      "cell_type": "markdown",
      "metadata": {
        "id": "bzCotQZxgXeG"
      },
      "source": [
        "### Details of each dataset"
      ]
    },
    {
      "cell_type": "code",
      "metadata": {
        "colab": {
          "base_uri": "https://localhost:8080/"
        },
        "id": "Sct3Wq7sXzNr",
        "outputId": "e220bd6a-f94d-4886-a81c-a4ff37c5829e"
      },
      "source": [
        "print('\\n- movies.csv -')\n",
        "df_m.info()\n",
        "print('\\n- ratings.csv -')\n",
        "df_r.info()\n",
        "print('\\n- tags.csv -')\n",
        "df_t.info()\n",
        "print('\\n- links.csv -')\n",
        "df_l.info()"
      ],
      "execution_count": 81,
      "outputs": [
        {
          "output_type": "stream",
          "name": "stdout",
          "text": [
            "\n",
            "- movies.csv -\n",
            "<class 'pandas.core.frame.DataFrame'>\n",
            "RangeIndex: 9742 entries, 0 to 9741\n",
            "Data columns (total 3 columns):\n",
            " #   Column   Non-Null Count  Dtype \n",
            "---  ------   --------------  ----- \n",
            " 0   movieId  9742 non-null   int64 \n",
            " 1   title    9742 non-null   object\n",
            " 2   genres   9742 non-null   object\n",
            "dtypes: int64(1), object(2)\n",
            "memory usage: 228.5+ KB\n",
            "\n",
            "- ratings.csv -\n",
            "<class 'pandas.core.frame.DataFrame'>\n",
            "RangeIndex: 100836 entries, 0 to 100835\n",
            "Data columns (total 4 columns):\n",
            " #   Column     Non-Null Count   Dtype  \n",
            "---  ------     --------------   -----  \n",
            " 0   userId     100836 non-null  int64  \n",
            " 1   movieId    100836 non-null  int64  \n",
            " 2   rating     100836 non-null  float64\n",
            " 3   timestamp  100836 non-null  int64  \n",
            "dtypes: float64(1), int64(3)\n",
            "memory usage: 3.1 MB\n",
            "\n",
            "- tags.csv -\n",
            "<class 'pandas.core.frame.DataFrame'>\n",
            "RangeIndex: 3683 entries, 0 to 3682\n",
            "Data columns (total 4 columns):\n",
            " #   Column     Non-Null Count  Dtype \n",
            "---  ------     --------------  ----- \n",
            " 0   userId     3683 non-null   int64 \n",
            " 1   movieId    3683 non-null   int64 \n",
            " 2   tag        3683 non-null   object\n",
            " 3   timestamp  3683 non-null   int64 \n",
            "dtypes: int64(3), object(1)\n",
            "memory usage: 115.2+ KB\n",
            "\n",
            "- links.csv -\n",
            "<class 'pandas.core.frame.DataFrame'>\n",
            "RangeIndex: 9742 entries, 0 to 9741\n",
            "Data columns (total 3 columns):\n",
            " #   Column   Non-Null Count  Dtype  \n",
            "---  ------   --------------  -----  \n",
            " 0   movieId  9742 non-null   int64  \n",
            " 1   imdbId   9742 non-null   int64  \n",
            " 2   tmdbId   9734 non-null   float64\n",
            "dtypes: float64(1), int64(2)\n",
            "memory usage: 228.5 KB\n"
          ]
        }
      ]
    },
    {
      "cell_type": "markdown",
      "metadata": {
        "id": "bz-AUR4CgTcV"
      },
      "source": [
        "### Plotting correlation matrix\n"
      ]
    },
    {
      "cell_type": "code",
      "metadata": {
        "colab": {
          "base_uri": "https://localhost:8080/",
          "height": 616
        },
        "id": "yONuHWDQePDv",
        "outputId": "187cdbd0-e6ad-4330-95a8-de2725f670d9"
      },
      "source": [
        "plt.figure(figsize=(10,10))\n",
        "sns.heatmap(df_r.corr(), cbar=True, annot=True, cmap='Reds')"
      ],
      "execution_count": 82,
      "outputs": [
        {
          "output_type": "execute_result",
          "data": {
            "text/plain": [
              "<matplotlib.axes._subplots.AxesSubplot at 0x7fe18515f050>"
            ]
          },
          "metadata": {},
          "execution_count": 82
        },
        {
          "output_type": "display_data",
          "data": {
            "image/png": "[encoded data removed]",
            "text/plain": [
              "<Figure size 720x720 with 2 Axes>"
            ]
          },
          "metadata": {}
        }
      ]
    },
    {
      "cell_type": "code",
      "metadata": {
        "colab": {
          "base_uri": "https://localhost:8080/",
          "height": 616
        },
        "id": "wyXg4MWjf4g7",
        "outputId": "886bd7fa-58a1-474f-8ba9-07539b7119d4"
      },
      "source": [
        "plt.figure(figsize=(10,10))\n",
        "sns.heatmap(df_t.corr(), cbar=True, annot=True, cmap='Reds')"
      ],
      "execution_count": 83,
      "outputs": [
        {
          "output_type": "execute_result",
          "data": {
            "text/plain": [
              "<matplotlib.axes._subplots.AxesSubplot at 0x7fe18cc58310>"
            ]
          },
          "metadata": {},
          "execution_count": 83
        },
        {
          "output_type": "display_data",
          "data": {
            "image/png": "[encoded data removed]",
            "text/plain": [
              "<Figure size 720x720 with 2 Axes>"
            ]
          },
          "metadata": {}
        }
      ]
    },
    {
      "cell_type": "code",
      "metadata": {
        "colab": {
          "base_uri": "https://localhost:8080/",
          "height": 616
        },
        "id": "mhEwms4zf5Q-",
        "outputId": "d5f6aab7-5e04-469b-bd18-50342d51afe7"
      },
      "source": [
        "plt.figure(figsize=(10,10))\n",
        "sns.heatmap(df_l.corr(), cbar=True, annot=True, cmap='Reds')"
      ],
      "execution_count": 84,
      "outputs": [
        {
          "output_type": "execute_result",
          "data": {
            "text/plain": [
              "<matplotlib.axes._subplots.AxesSubplot at 0x7fe184ce3d10>"
            ]
          },
          "metadata": {},
          "execution_count": 84
        },
        {
          "output_type": "display_data",
          "data": {
            "image/png": "[encoded data removed]",
            "text/plain": [
              "<Figure size 720x720 with 2 Axes>"
            ]
          },
          "metadata": {}
        }
      ]
    },
    {
      "cell_type": "markdown",
      "metadata": {
        "id": "y8WnjwspZYzS"
      },
      "source": [
        "### Frequency distribution of ratings "
      ]
    },
    {
      "cell_type": "code",
      "metadata": {
        "colab": {
          "base_uri": "https://localhost:8080/"
        },
        "id": "x2KsRTM9ZHKv",
        "outputId": "ddbff31d-6100-4e2c-dde1-f4d35e626365"
      },
      "source": [
        "rating_dist = df_r['rating'].value_counts()\n",
        "rating_dist"
      ],
      "execution_count": 85,
      "outputs": [
        {
          "output_type": "execute_result",
          "data": {
            "text/plain": [
              "4.0    26818\n",
              "3.0    20047\n",
              "5.0    13211\n",
              "3.5    13136\n",
              "4.5     8551\n",
              "2.0     7551\n",
              "2.5     5550\n",
              "1.0     2811\n",
              "1.5     1791\n",
              "0.5     1370\n",
              "Name: rating, dtype: int64"
            ]
          },
          "metadata": {},
          "execution_count": 85
        }
      ]
    },
    {
      "cell_type": "code",
      "metadata": {
        "colab": {
          "base_uri": "https://localhost:8080/",
          "height": 630
        },
        "id": "tnrq8g_qqPRm",
        "outputId": "687406f5-9b83-42e1-a0d6-edaffdcb2c1b"
      },
      "source": [
        "rating_val = [(0.5, 1370), (1.0, 2811), (1.5, 1791), (2.0, 7551), (2.5, 5550), (3.0, 20047), (3.5, 13136), (4.0, 26818), (4.5, 8551), (5.0, 13211)]\n",
        "plt.figure(figsize=(10, 10)) \n",
        "plt.plot(rating_val, 'black')"
      ],
      "execution_count": 86,
      "outputs": [
        {
          "output_type": "execute_result",
          "data": {
            "text/plain": [
              "[<matplotlib.lines.Line2D at 0x7fe1a0830790>,\n",
              " <matplotlib.lines.Line2D at 0x7fe1a0830990>]"
            ]
          },
          "metadata": {},
          "execution_count": 86
        },
        {
          "output_type": "display_data",
          "data": {
            "image/png": "[encoded data removed]",
            "text/plain": [
              "<Figure size 720x720 with 1 Axes>"
            ]
          },
          "metadata": {}
        }
      ]
    },
    {
      "cell_type": "markdown",
      "metadata": {
        "id": "am8W_6azCVUS"
      },
      "source": [
        "### Frequency distribution of tags"
      ]
    },
    {
      "cell_type": "code",
      "metadata": {
        "colab": {
          "base_uri": "https://localhost:8080/"
        },
        "id": "6Fv0YlIZCFkX",
        "outputId": "a9d80673-adbb-4fac-dcc5-b9b0375d469a"
      },
      "source": [
        "print(df_t['tag'].value_counts())"
      ],
      "execution_count": 87,
      "outputs": [
        {
          "output_type": "stream",
          "name": "stdout",
          "text": [
            "In Netflix queue     131\n",
            "atmospheric           36\n",
            "superhero             24\n",
            "thought-provoking     24\n",
            "Disney                23\n",
            "                    ... \n",
            "rabbi                  1\n",
            "tedious                1\n",
            "awkward                1\n",
            "masculinity            1\n",
            "MMA                    1\n",
            "Name: tag, Length: 1589, dtype: int64\n"
          ]
        }
      ]
    },
    {
      "cell_type": "markdown",
      "metadata": {
        "id": "feeKH5dmfG81"
      },
      "source": [
        "### Distribution of movies by genres"
      ]
    },
    {
      "cell_type": "code",
      "metadata": {
        "colab": {
          "base_uri": "https://localhost:8080/"
        },
        "id": "ygaDwHI-KcH0",
        "outputId": "763eb5c5-e4e8-4a32-a939-8382035ee2b2"
      },
      "source": [
        "freq_temp = dict()\n",
        "for index, row in df_m.iterrows():\n",
        "    curr = row['genres'].split('|')\n",
        "    for vals in curr:\n",
        "      if vals not in freq_temp:\n",
        "        freq_temp[vals] = 1\n",
        "      else:\n",
        "        freq_temp[vals] += 1\n",
        "\n",
        "for genre, cnt in freq_temp.items():\n",
        "  print(genre, cnt)"
      ],
      "execution_count": 88,
      "outputs": [
        {
          "output_type": "stream",
          "name": "stdout",
          "text": [
            "Adventure 1263\n",
            "Animation 611\n",
            "Children 664\n",
            "Comedy 3756\n",
            "Fantasy 779\n",
            "Romance 1596\n",
            "Drama 4361\n",
            "Action 1828\n",
            "Crime 1199\n",
            "Thriller 1894\n",
            "Horror 978\n",
            "Mystery 573\n",
            "Sci-Fi 980\n",
            "War 382\n",
            "Musical 334\n",
            "Documentary 440\n",
            "IMAX 158\n",
            "Western 167\n",
            "Film-Noir 87\n",
            "(no genres listed) 34\n"
          ]
        }
      ]
    },
    {
      "cell_type": "markdown",
      "metadata": {
        "id": "7p4DRwb2gNYQ"
      },
      "source": [
        "### Average rating of movie given by users"
      ]
    },
    {
      "cell_type": "code",
      "metadata": {
        "colab": {
          "base_uri": "https://localhost:8080/",
          "height": 423
        },
        "id": "LXAzYx4ZfccI",
        "outputId": "aa5fa9a1-66da-40a3-efe1-61a1ca83f4bb"
      },
      "source": [
        "trend = df_r.groupby('movieId')\n",
        "trend = trend['rating'].mean()\n",
        "trend = trend.reset_index()\n",
        "trend = trend.sort_values('rating', ascending=False)\n",
        "trend"
      ],
      "execution_count": 89,
      "outputs": [
        {
          "output_type": "execute_result",
          "data": {
            "text/html": [
              "<div>\n",
              "<style scoped>\n",
              "    .dataframe tbody tr th:only-of-type {\n",
              "        vertical-align: middle;\n",
              "    }\n",
              "\n",
              "    .dataframe tbody tr th {\n",
              "        vertical-align: top;\n",
              "    }\n",
              "\n",
              "    .dataframe thead th {\n",
              "        text-align: right;\n",
              "    }\n",
              "</style>\n",
              "<table border=\"1\" class=\"dataframe\">\n",
              "  <thead>\n",
              "    <tr style=\"text-align: right;\">\n",
              "      <th></th>\n",
              "      <th>movieId</th>\n",
              "      <th>rating</th>\n",
              "    </tr>\n",
              "  </thead>\n",
              "  <tbody>\n",
              "    <tr>\n",
              "      <th>7638</th>\n",
              "      <td>88448</td>\n",
              "      <td>5.0</td>\n",
              "    </tr>\n",
              "    <tr>\n",
              "      <th>8089</th>\n",
              "      <td>100556</td>\n",
              "      <td>5.0</td>\n",
              "    </tr>\n",
              "    <tr>\n",
              "      <th>9065</th>\n",
              "      <td>143031</td>\n",
              "      <td>5.0</td>\n",
              "    </tr>\n",
              "    <tr>\n",
              "      <th>9076</th>\n",
              "      <td>143511</td>\n",
              "      <td>5.0</td>\n",
              "    </tr>\n",
              "    <tr>\n",
              "      <th>9078</th>\n",
              "      <td>143559</td>\n",
              "      <td>5.0</td>\n",
              "    </tr>\n",
              "    <tr>\n",
              "      <th>...</th>\n",
              "      <td>...</td>\n",
              "      <td>...</td>\n",
              "    </tr>\n",
              "    <tr>\n",
              "      <th>9253</th>\n",
              "      <td>157172</td>\n",
              "      <td>0.5</td>\n",
              "    </tr>\n",
              "    <tr>\n",
              "      <th>7536</th>\n",
              "      <td>85334</td>\n",
              "      <td>0.5</td>\n",
              "    </tr>\n",
              "    <tr>\n",
              "      <th>6486</th>\n",
              "      <td>53453</td>\n",
              "      <td>0.5</td>\n",
              "    </tr>\n",
              "    <tr>\n",
              "      <th>5200</th>\n",
              "      <td>8494</td>\n",
              "      <td>0.5</td>\n",
              "    </tr>\n",
              "    <tr>\n",
              "      <th>7145</th>\n",
              "      <td>71810</td>\n",
              "      <td>0.5</td>\n",
              "    </tr>\n",
              "  </tbody>\n",
              "</table>\n",
              "<p>9724 rows × 2 columns</p>\n",
              "</div>"
            ],
            "text/plain": [
              "      movieId  rating\n",
              "7638    88448     5.0\n",
              "8089   100556     5.0\n",
              "9065   143031     5.0\n",
              "9076   143511     5.0\n",
              "9078   143559     5.0\n",
              "...       ...     ...\n",
              "9253   157172     0.5\n",
              "7536    85334     0.5\n",
              "6486    53453     0.5\n",
              "5200     8494     0.5\n",
              "7145    71810     0.5\n",
              "\n",
              "[9724 rows x 2 columns]"
            ]
          },
          "metadata": {},
          "execution_count": 89
        }
      ]
    },
    {
      "cell_type": "markdown",
      "metadata": {
        "id": "8zI_zztJzUJ7"
      },
      "source": [
        "# Question 2"
      ]
    },
    {
      "cell_type": "code",
      "metadata": {
        "id": "UeqZq9iXBmYc"
      },
      "source": [
        "df_r.drop(columns=['timestamp'],inplace=True)\n",
        "\n",
        "merge_list = df_r.groupby(by = [\"userId\"])[\"movieId\"].apply(list).reset_index()\n",
        "merge_list = merge_list['movieId'].tolist()"
      ],
      "execution_count": null,
      "outputs": []
    },
    {
      "cell_type": "code",
      "metadata": {
        "id": "VbVZFT8HNgwh"
      },
      "source": [
        "pd.get_dummies\n",
        "from mlxtend.preprocessing import TransactionEncoder\n",
        "te = TransactionEncoder()\n",
        "te_ary = te.fit(merge_list).transform(merge_list)\n",
        "data = pd.DataFrame(te_ary, columns=te.columns_)\n",
        "#data"
      ],
      "execution_count": 91,
      "outputs": []
    },
    {
      "cell_type": "code",
      "metadata": {
        "id": "5x-a_xisOFX_"
      },
      "source": [
        "!pip install mlxtend --upgrade"
      ],
      "execution_count": null,
      "outputs": []
    },
    {
      "cell_type": "markdown",
      "metadata": {
        "id": "x7yonhBFg0cN"
      },
      "source": [
        "### Performing fpgrowth"
      ]
    },
    {
      "cell_type": "code",
      "metadata": {
        "colab": {
          "base_uri": "https://localhost:8080/"
        },
        "id": "D6fusVy4m2ZL",
        "outputId": "2c40cbae-bf33-4708-c2ee-c711f26f5af8"
      },
      "source": [
        "from mlxtend.frequent_patterns import fpgrowth\n",
        "%time\n",
        "fpgrowth_frequent_itemsets = fpgrowth(data, min_support=0.1, use_colnames=True)\n",
        "fpgrowth_frequent_itemsets.head()\n",
        "fpgrowth_frequent_itemsets['itemsets'].apply(lambda x: len(x)).value_counts()"
      ],
      "execution_count": 93,
      "outputs": [
        {
          "output_type": "stream",
          "name": "stdout",
          "text": [
            "CPU times: user 4 µs, sys: 0 ns, total: 4 µs\n",
            "Wall time: 9.06 µs\n"
          ]
        },
        {
          "output_type": "execute_result",
          "data": {
            "text/plain": [
              "4     38160\n",
              "5     33837\n",
              "3     21556\n",
              "6     16419\n",
              "2      5061\n",
              "7      4365\n",
              "8       607\n",
              "1       328\n",
              "9        35\n",
              "10        1\n",
              "Name: itemsets, dtype: int64"
            ]
          },
          "metadata": {},
          "execution_count": 93
        }
      ]
    },
    {
      "cell_type": "code",
      "metadata": {
        "colab": {
          "base_uri": "https://localhost:8080/",
          "height": 423
        },
        "id": "NbzIcblTOag9",
        "outputId": "69e12f92-bb64-47bb-9164-9aa9bc85d731"
      },
      "source": [
        "fpgrowth_frequent_itemsets['length'] = fpgrowth_frequent_itemsets['itemsets'].apply(lambda x: len(x))\n",
        "fpgrowth_frequent_itemsets"
      ],
      "execution_count": 94,
      "outputs": [
        {
          "output_type": "execute_result",
          "data": {
            "text/html": [
              "<div>\n",
              "<style scoped>\n",
              "    .dataframe tbody tr th:only-of-type {\n",
              "        vertical-align: middle;\n",
              "    }\n",
              "\n",
              "    .dataframe tbody tr th {\n",
              "        vertical-align: top;\n",
              "    }\n",
              "\n",
              "    .dataframe thead th {\n",
              "        text-align: right;\n",
              "    }\n",
              "</style>\n",
              "<table border=\"1\" class=\"dataframe\">\n",
              "  <thead>\n",
              "    <tr style=\"text-align: right;\">\n",
              "      <th></th>\n",
              "      <th>support</th>\n",
              "      <th>itemsets</th>\n",
              "      <th>length</th>\n",
              "    </tr>\n",
              "  </thead>\n",
              "  <tbody>\n",
              "    <tr>\n",
              "      <th>0</th>\n",
              "      <td>0.539344</td>\n",
              "      <td>(356)</td>\n",
              "      <td>1</td>\n",
              "    </tr>\n",
              "    <tr>\n",
              "      <th>1</th>\n",
              "      <td>0.503279</td>\n",
              "      <td>(296)</td>\n",
              "      <td>1</td>\n",
              "    </tr>\n",
              "    <tr>\n",
              "      <th>2</th>\n",
              "      <td>0.457377</td>\n",
              "      <td>(593)</td>\n",
              "      <td>1</td>\n",
              "    </tr>\n",
              "    <tr>\n",
              "      <th>3</th>\n",
              "      <td>0.455738</td>\n",
              "      <td>(2571)</td>\n",
              "      <td>1</td>\n",
              "    </tr>\n",
              "    <tr>\n",
              "      <th>4</th>\n",
              "      <td>0.411475</td>\n",
              "      <td>(260)</td>\n",
              "      <td>1</td>\n",
              "    </tr>\n",
              "    <tr>\n",
              "      <th>...</th>\n",
              "      <td>...</td>\n",
              "      <td>...</td>\n",
              "      <td>...</td>\n",
              "    </tr>\n",
              "    <tr>\n",
              "      <th>120364</th>\n",
              "      <td>0.101639</td>\n",
              "      <td>(1393, 780)</td>\n",
              "      <td>2</td>\n",
              "    </tr>\n",
              "    <tr>\n",
              "      <th>120365</th>\n",
              "      <td>0.106557</td>\n",
              "      <td>(1393, 260)</td>\n",
              "      <td>2</td>\n",
              "    </tr>\n",
              "    <tr>\n",
              "      <th>120366</th>\n",
              "      <td>0.104918</td>\n",
              "      <td>(593, 1393)</td>\n",
              "      <td>2</td>\n",
              "    </tr>\n",
              "    <tr>\n",
              "      <th>120367</th>\n",
              "      <td>0.114754</td>\n",
              "      <td>(1393, 356)</td>\n",
              "      <td>2</td>\n",
              "    </tr>\n",
              "    <tr>\n",
              "      <th>120368</th>\n",
              "      <td>0.103279</td>\n",
              "      <td>(1393, 1210)</td>\n",
              "      <td>2</td>\n",
              "    </tr>\n",
              "  </tbody>\n",
              "</table>\n",
              "<p>120369 rows × 3 columns</p>\n",
              "</div>"
            ],
            "text/plain": [
              "         support      itemsets  length\n",
              "0       0.539344         (356)       1\n",
              "1       0.503279         (296)       1\n",
              "2       0.457377         (593)       1\n",
              "3       0.455738        (2571)       1\n",
              "4       0.411475         (260)       1\n",
              "...          ...           ...     ...\n",
              "120364  0.101639   (1393, 780)       2\n",
              "120365  0.106557   (1393, 260)       2\n",
              "120366  0.104918   (593, 1393)       2\n",
              "120367  0.114754   (1393, 356)       2\n",
              "120368  0.103279  (1393, 1210)       2\n",
              "\n",
              "[120369 rows x 3 columns]"
            ]
          },
          "metadata": {},
          "execution_count": 94
        }
      ]
    },
    {
      "cell_type": "code",
      "metadata": {
        "colab": {
          "base_uri": "https://localhost:8080/",
          "height": 423
        },
        "id": "mt01-X9-7Nux",
        "outputId": "94c7642d-880f-4f7d-b283-e385081be6a6"
      },
      "source": [
        "fpgrowth_frequent_itemsets[(fpgrowth_frequent_itemsets['length'] > 2)]"
      ],
      "execution_count": 95,
      "outputs": [
        {
          "output_type": "execute_result",
          "data": {
            "text/html": [
              "<div>\n",
              "<style scoped>\n",
              "    .dataframe tbody tr th:only-of-type {\n",
              "        vertical-align: middle;\n",
              "    }\n",
              "\n",
              "    .dataframe tbody tr th {\n",
              "        vertical-align: top;\n",
              "    }\n",
              "\n",
              "    .dataframe thead th {\n",
              "        text-align: right;\n",
              "    }\n",
              "</style>\n",
              "<table border=\"1\" class=\"dataframe\">\n",
              "  <thead>\n",
              "    <tr style=\"text-align: right;\">\n",
              "      <th></th>\n",
              "      <th>support</th>\n",
              "      <th>itemsets</th>\n",
              "      <th>length</th>\n",
              "    </tr>\n",
              "  </thead>\n",
              "  <tbody>\n",
              "    <tr>\n",
              "      <th>330</th>\n",
              "      <td>0.293443</td>\n",
              "      <td>(296, 356, 318)</td>\n",
              "      <td>3</td>\n",
              "    </tr>\n",
              "    <tr>\n",
              "      <th>334</th>\n",
              "      <td>0.268852</td>\n",
              "      <td>(296, 593, 356)</td>\n",
              "      <td>3</td>\n",
              "    </tr>\n",
              "    <tr>\n",
              "      <th>335</th>\n",
              "      <td>0.254098</td>\n",
              "      <td>(593, 356, 318)</td>\n",
              "      <td>3</td>\n",
              "    </tr>\n",
              "    <tr>\n",
              "      <th>336</th>\n",
              "      <td>0.221311</td>\n",
              "      <td>(296, 593, 356, 318)</td>\n",
              "      <td>4</td>\n",
              "    </tr>\n",
              "    <tr>\n",
              "      <th>337</th>\n",
              "      <td>0.270492</td>\n",
              "      <td>(296, 593, 318)</td>\n",
              "      <td>3</td>\n",
              "    </tr>\n",
              "    <tr>\n",
              "      <th>...</th>\n",
              "      <td>...</td>\n",
              "      <td>...</td>\n",
              "      <td>...</td>\n",
              "    </tr>\n",
              "    <tr>\n",
              "      <th>120352</th>\n",
              "      <td>0.108197</td>\n",
              "      <td>(1210, 1387, 1196)</td>\n",
              "      <td>3</td>\n",
              "    </tr>\n",
              "    <tr>\n",
              "      <th>120353</th>\n",
              "      <td>0.106557</td>\n",
              "      <td>(1210, 1196, 1387, 260)</td>\n",
              "      <td>4</td>\n",
              "    </tr>\n",
              "    <tr>\n",
              "      <th>120354</th>\n",
              "      <td>0.100000</td>\n",
              "      <td>(480, 1387, 260)</td>\n",
              "      <td>3</td>\n",
              "    </tr>\n",
              "    <tr>\n",
              "      <th>120362</th>\n",
              "      <td>0.103279</td>\n",
              "      <td>(8874, 2571, 2959)</td>\n",
              "      <td>3</td>\n",
              "    </tr>\n",
              "    <tr>\n",
              "      <th>120363</th>\n",
              "      <td>0.100000</td>\n",
              "      <td>(8874, 2571, 356)</td>\n",
              "      <td>3</td>\n",
              "    </tr>\n",
              "  </tbody>\n",
              "</table>\n",
              "<p>114980 rows × 3 columns</p>\n",
              "</div>"
            ],
            "text/plain": [
              "         support                 itemsets  length\n",
              "330     0.293443          (296, 356, 318)       3\n",
              "334     0.268852          (296, 593, 356)       3\n",
              "335     0.254098          (593, 356, 318)       3\n",
              "336     0.221311     (296, 593, 356, 318)       4\n",
              "337     0.270492          (296, 593, 318)       3\n",
              "...          ...                      ...     ...\n",
              "120352  0.108197       (1210, 1387, 1196)       3\n",
              "120353  0.106557  (1210, 1196, 1387, 260)       4\n",
              "120354  0.100000         (480, 1387, 260)       3\n",
              "120362  0.103279       (8874, 2571, 2959)       3\n",
              "120363  0.100000        (8874, 2571, 356)       3\n",
              "\n",
              "[114980 rows x 3 columns]"
            ]
          },
          "metadata": {},
          "execution_count": 95
        }
      ]
    },
    {
      "cell_type": "markdown",
      "metadata": {
        "id": "g6PKVeR8hA1G"
      },
      "source": [
        "### Forming association Rules"
      ]
    },
    {
      "cell_type": "code",
      "metadata": {
        "id": "kUTb21pL814T"
      },
      "source": [
        "from mlxtend.frequent_patterns import association_rules\n",
        "rules = association_rules(fpgrowth_frequent_itemsets,metric=\"lift\",min_threshold=0.1)"
      ],
      "execution_count": 96,
      "outputs": []
    },
    {
      "cell_type": "code",
      "metadata": {
        "colab": {
          "base_uri": "https://localhost:8080/",
          "height": 423
        },
        "id": "0pAhDNl7qxGu",
        "outputId": "b71bbaec-3d9b-477a-e0a8-7bb6c7c4ac62"
      },
      "source": [
        "rules = rules.sort_values('lift', ascending=False)\n",
        "rules"
      ],
      "execution_count": 97,
      "outputs": [
        {
          "output_type": "execute_result",
          "data": {
            "text/html": [
              "<div>\n",
              "<style scoped>\n",
              "    .dataframe tbody tr th:only-of-type {\n",
              "        vertical-align: middle;\n",
              "    }\n",
              "\n",
              "    .dataframe tbody tr th {\n",
              "        vertical-align: top;\n",
              "    }\n",
              "\n",
              "    .dataframe thead th {\n",
              "        text-align: right;\n",
              "    }\n",
              "</style>\n",
              "<table border=\"1\" class=\"dataframe\">\n",
              "  <thead>\n",
              "    <tr style=\"text-align: right;\">\n",
              "      <th></th>\n",
              "      <th>antecedents</th>\n",
              "      <th>consequents</th>\n",
              "      <th>antecedent support</th>\n",
              "      <th>consequent support</th>\n",
              "      <th>support</th>\n",
              "      <th>confidence</th>\n",
              "      <th>lift</th>\n",
              "      <th>leverage</th>\n",
              "      <th>conviction</th>\n",
              "    </tr>\n",
              "  </thead>\n",
              "  <tbody>\n",
              "    <tr>\n",
              "      <th>3316685</th>\n",
              "      <td>(2571, 1196, 7438)</td>\n",
              "      <td>(1210, 6874, 2959)</td>\n",
              "      <td>0.111475</td>\n",
              "      <td>0.108197</td>\n",
              "      <td>0.100000</td>\n",
              "      <td>0.897059</td>\n",
              "      <td>8.290998</td>\n",
              "      <td>0.087939</td>\n",
              "      <td>8.663232</td>\n",
              "    </tr>\n",
              "    <tr>\n",
              "      <th>3316704</th>\n",
              "      <td>(1210, 6874, 2959)</td>\n",
              "      <td>(2571, 1196, 7438)</td>\n",
              "      <td>0.108197</td>\n",
              "      <td>0.111475</td>\n",
              "      <td>0.100000</td>\n",
              "      <td>0.924242</td>\n",
              "      <td>8.290998</td>\n",
              "      <td>0.087939</td>\n",
              "      <td>11.728525</td>\n",
              "    </tr>\n",
              "    <tr>\n",
              "      <th>3316591</th>\n",
              "      <td>(1196, 7438)</td>\n",
              "      <td>(6874, 1210, 2959)</td>\n",
              "      <td>0.114754</td>\n",
              "      <td>0.108197</td>\n",
              "      <td>0.100000</td>\n",
              "      <td>0.871429</td>\n",
              "      <td>8.054113</td>\n",
              "      <td>0.087584</td>\n",
              "      <td>6.936248</td>\n",
              "    </tr>\n",
              "    <tr>\n",
              "      <th>3316679</th>\n",
              "      <td>(1210, 6874, 2571, 2959)</td>\n",
              "      <td>(1196, 7438)</td>\n",
              "      <td>0.108197</td>\n",
              "      <td>0.114754</td>\n",
              "      <td>0.100000</td>\n",
              "      <td>0.924242</td>\n",
              "      <td>8.054113</td>\n",
              "      <td>0.087584</td>\n",
              "      <td>11.685246</td>\n",
              "    </tr>\n",
              "    <tr>\n",
              "      <th>3316582</th>\n",
              "      <td>(6874, 1210, 2959)</td>\n",
              "      <td>(1196, 7438)</td>\n",
              "      <td>0.108197</td>\n",
              "      <td>0.114754</td>\n",
              "      <td>0.100000</td>\n",
              "      <td>0.924242</td>\n",
              "      <td>8.054113</td>\n",
              "      <td>0.087584</td>\n",
              "      <td>11.685246</td>\n",
              "    </tr>\n",
              "    <tr>\n",
              "      <th>...</th>\n",
              "      <td>...</td>\n",
              "      <td>...</td>\n",
              "      <td>...</td>\n",
              "      <td>...</td>\n",
              "      <td>...</td>\n",
              "      <td>...</td>\n",
              "      <td>...</td>\n",
              "      <td>...</td>\n",
              "      <td>...</td>\n",
              "    </tr>\n",
              "    <tr>\n",
              "      <th>2448244</th>\n",
              "      <td>(4993)</td>\n",
              "      <td>(150)</td>\n",
              "      <td>0.324590</td>\n",
              "      <td>0.329508</td>\n",
              "      <td>0.104918</td>\n",
              "      <td>0.323232</td>\n",
              "      <td>0.980954</td>\n",
              "      <td>-0.002037</td>\n",
              "      <td>0.990727</td>\n",
              "    </tr>\n",
              "    <tr>\n",
              "      <th>474655</th>\n",
              "      <td>(2959)</td>\n",
              "      <td>(592)</td>\n",
              "      <td>0.357377</td>\n",
              "      <td>0.309836</td>\n",
              "      <td>0.108197</td>\n",
              "      <td>0.302752</td>\n",
              "      <td>0.977137</td>\n",
              "      <td>-0.002532</td>\n",
              "      <td>0.989840</td>\n",
              "    </tr>\n",
              "    <tr>\n",
              "      <th>474654</th>\n",
              "      <td>(592)</td>\n",
              "      <td>(2959)</td>\n",
              "      <td>0.309836</td>\n",
              "      <td>0.357377</td>\n",
              "      <td>0.108197</td>\n",
              "      <td>0.349206</td>\n",
              "      <td>0.977137</td>\n",
              "      <td>-0.002532</td>\n",
              "      <td>0.987445</td>\n",
              "    </tr>\n",
              "    <tr>\n",
              "      <th>1044807</th>\n",
              "      <td>(590)</td>\n",
              "      <td>(2571)</td>\n",
              "      <td>0.268852</td>\n",
              "      <td>0.455738</td>\n",
              "      <td>0.113115</td>\n",
              "      <td>0.420732</td>\n",
              "      <td>0.923188</td>\n",
              "      <td>-0.009411</td>\n",
              "      <td>0.939569</td>\n",
              "    </tr>\n",
              "    <tr>\n",
              "      <th>1044806</th>\n",
              "      <td>(2571)</td>\n",
              "      <td>(590)</td>\n",
              "      <td>0.455738</td>\n",
              "      <td>0.268852</td>\n",
              "      <td>0.113115</td>\n",
              "      <td>0.248201</td>\n",
              "      <td>0.923188</td>\n",
              "      <td>-0.009411</td>\n",
              "      <td>0.972531</td>\n",
              "    </tr>\n",
              "  </tbody>\n",
              "</table>\n",
              "<p>3429826 rows × 9 columns</p>\n",
              "</div>"
            ],
            "text/plain": [
              "                      antecedents         consequents  ...  leverage  conviction\n",
              "3316685        (2571, 1196, 7438)  (1210, 6874, 2959)  ...  0.087939    8.663232\n",
              "3316704        (1210, 6874, 2959)  (2571, 1196, 7438)  ...  0.087939   11.728525\n",
              "3316591              (1196, 7438)  (6874, 1210, 2959)  ...  0.087584    6.936248\n",
              "3316679  (1210, 6874, 2571, 2959)        (1196, 7438)  ...  0.087584   11.685246\n",
              "3316582        (6874, 1210, 2959)        (1196, 7438)  ...  0.087584   11.685246\n",
              "...                           ...                 ...  ...       ...         ...\n",
              "2448244                    (4993)               (150)  ... -0.002037    0.990727\n",
              "474655                     (2959)               (592)  ... -0.002532    0.989840\n",
              "474654                      (592)              (2959)  ... -0.002532    0.987445\n",
              "1044807                     (590)              (2571)  ... -0.009411    0.939569\n",
              "1044806                    (2571)               (590)  ... -0.009411    0.972531\n",
              "\n",
              "[3429826 rows x 9 columns]"
            ]
          },
          "metadata": {},
          "execution_count": 97
        }
      ]
    },
    {
      "cell_type": "markdown",
      "metadata": {
        "id": "WOh2b45LhPgu"
      },
      "source": [
        "### Merging average rating column with movies dataframe"
      ]
    },
    {
      "cell_type": "code",
      "metadata": {
        "colab": {
          "base_uri": "https://localhost:8080/",
          "height": 423
        },
        "id": "zA_Le2FKIVu7",
        "outputId": "e9bdbfd6-3ad6-45a5-b0aa-f304e1a010ce"
      },
      "source": [
        "df_inner = pd.merge(df_m, trend, on='movieId', how='inner')\n",
        "df_inner = df_inner.sort_values('rating', ascending=False)\n",
        "df_inner"
      ],
      "execution_count": 98,
      "outputs": [
        {
          "output_type": "execute_result",
          "data": {
            "text/html": [
              "<div>\n",
              "<style scoped>\n",
              "    .dataframe tbody tr th:only-of-type {\n",
              "        vertical-align: middle;\n",
              "    }\n",
              "\n",
              "    .dataframe tbody tr th {\n",
              "        vertical-align: top;\n",
              "    }\n",
              "\n",
              "    .dataframe thead th {\n",
              "        text-align: right;\n",
              "    }\n",
              "</style>\n",
              "<table border=\"1\" class=\"dataframe\">\n",
              "  <thead>\n",
              "    <tr style=\"text-align: right;\">\n",
              "      <th></th>\n",
              "      <th>movieId</th>\n",
              "      <th>title</th>\n",
              "      <th>genres</th>\n",
              "      <th>rating</th>\n",
              "    </tr>\n",
              "  </thead>\n",
              "  <tbody>\n",
              "    <tr>\n",
              "      <th>7638</th>\n",
              "      <td>88448</td>\n",
              "      <td>Paper Birds (Pájaros de papel) (2010)</td>\n",
              "      <td>Comedy|Drama</td>\n",
              "      <td>5.0</td>\n",
              "    </tr>\n",
              "    <tr>\n",
              "      <th>8089</th>\n",
              "      <td>100556</td>\n",
              "      <td>Act of Killing, The (2012)</td>\n",
              "      <td>Documentary</td>\n",
              "      <td>5.0</td>\n",
              "    </tr>\n",
              "    <tr>\n",
              "      <th>9065</th>\n",
              "      <td>143031</td>\n",
              "      <td>Jump In! (2007)</td>\n",
              "      <td>Comedy|Drama|Romance</td>\n",
              "      <td>5.0</td>\n",
              "    </tr>\n",
              "    <tr>\n",
              "      <th>9076</th>\n",
              "      <td>143511</td>\n",
              "      <td>Human (2015)</td>\n",
              "      <td>Documentary</td>\n",
              "      <td>5.0</td>\n",
              "    </tr>\n",
              "    <tr>\n",
              "      <th>9078</th>\n",
              "      <td>143559</td>\n",
              "      <td>L.A. Slasher (2015)</td>\n",
              "      <td>Comedy|Crime|Fantasy</td>\n",
              "      <td>5.0</td>\n",
              "    </tr>\n",
              "    <tr>\n",
              "      <th>...</th>\n",
              "      <td>...</td>\n",
              "      <td>...</td>\n",
              "      <td>...</td>\n",
              "      <td>...</td>\n",
              "    </tr>\n",
              "    <tr>\n",
              "      <th>9253</th>\n",
              "      <td>157172</td>\n",
              "      <td>Wizards of the Lost Kingdom II (1989)</td>\n",
              "      <td>Action|Fantasy</td>\n",
              "      <td>0.5</td>\n",
              "    </tr>\n",
              "    <tr>\n",
              "      <th>7536</th>\n",
              "      <td>85334</td>\n",
              "      <td>Hard Ticket to Hawaii (1987)</td>\n",
              "      <td>Action|Comedy</td>\n",
              "      <td>0.5</td>\n",
              "    </tr>\n",
              "    <tr>\n",
              "      <th>6486</th>\n",
              "      <td>53453</td>\n",
              "      <td>Starcrash (a.k.a. Star Crash) (1978)</td>\n",
              "      <td>Action|Adventure|Fantasy|Sci-Fi</td>\n",
              "      <td>0.5</td>\n",
              "    </tr>\n",
              "    <tr>\n",
              "      <th>5200</th>\n",
              "      <td>8494</td>\n",
              "      <td>Cincinnati Kid, The (1965)</td>\n",
              "      <td>Drama</td>\n",
              "      <td>0.5</td>\n",
              "    </tr>\n",
              "    <tr>\n",
              "      <th>7145</th>\n",
              "      <td>71810</td>\n",
              "      <td>Legionnaire (1998)</td>\n",
              "      <td>Action|Adventure|Drama|War</td>\n",
              "      <td>0.5</td>\n",
              "    </tr>\n",
              "  </tbody>\n",
              "</table>\n",
              "<p>9724 rows × 4 columns</p>\n",
              "</div>"
            ],
            "text/plain": [
              "      movieId  ... rating\n",
              "7638    88448  ...    5.0\n",
              "8089   100556  ...    5.0\n",
              "9065   143031  ...    5.0\n",
              "9076   143511  ...    5.0\n",
              "9078   143559  ...    5.0\n",
              "...       ...  ...    ...\n",
              "9253   157172  ...    0.5\n",
              "7536    85334  ...    0.5\n",
              "6486    53453  ...    0.5\n",
              "5200     8494  ...    0.5\n",
              "7145    71810  ...    0.5\n",
              "\n",
              "[9724 rows x 4 columns]"
            ]
          },
          "metadata": {},
          "execution_count": 98
        }
      ]
    },
    {
      "cell_type": "markdown",
      "metadata": {
        "id": "XYq0obzWhW78"
      },
      "source": [
        "### Function to recommend the movies"
      ]
    },
    {
      "cell_type": "code",
      "metadata": {
        "id": "JP9VhCCAI-g1"
      },
      "source": [
        "def solve(input):\n",
        "  sett = set()\n",
        "  \n",
        "  for index, x in rules.iterrows():\n",
        "    if(x['antecedents'] == input):\n",
        "      for y in x['consequents']:\n",
        "        if(len(sett) == 4):\n",
        "            return sett\n",
        "        sett.add(y)\n",
        "        if(len(sett) == 4):\n",
        "          return sett\n",
        "\n",
        "    if(len(input) == 1):\n",
        "      for x in input:\n",
        "        str = id_to_genre[x]\n",
        "        cnt = 0\n",
        "        for ch in str:\n",
        "          if ch == '|':\n",
        "            cnt += 1\n",
        "        if cnt > 3:\n",
        "          for index, curr in df_inner.iterrows():\n",
        "              if curr['movieId'] != x and curr['genres'] == str:\n",
        "                if(len(sett) == 4):\n",
        "                  return sett\n",
        "                sett.add(curr['movieId'])\n",
        "                if(len(sett) == 4):\n",
        "                  return sett\n",
        "\n",
        "\n",
        "  for index, x in rules.iterrows():\n",
        "    if(x['antecedents'] < input):\n",
        "      for y in x['consequents']:\n",
        "        if(len(sett) == 4):\n",
        "          return sett\n",
        "        sett.add(y)\n",
        "        if(len(sett) == 4):\n",
        "          return sett\n",
        "\n",
        "  freq = dict()\n",
        "  for x in input:\n",
        "    for index, row in df_m.iterrows():\n",
        "      if(row['movieId'] == x):\n",
        "        curr = row['genres'].split('|')\n",
        "        for vals in curr:\n",
        "          if vals not in freq:\n",
        "            freq[vals] = 1\n",
        "          else:\n",
        "            freq[vals] += 1\n",
        "  \n",
        "  freq = sorted(freq.items(), key=lambda x: x[1], reverse=True)\n",
        "  \n",
        "  for movie, cnt in freq:\n",
        "    if(len(sett) == 4):\n",
        "      return sett\n",
        "    for index, x in df_inner.iterrows():\n",
        "      if movie in x['genres']:\n",
        "        if len(sett) == 4:\n",
        "          return sett\n",
        "        sett.add(x['movieId'])\n",
        "        if len(sett) == 4:\n",
        "          return sett\n",
        "\n",
        "  for index, x in rules.iterrows():\n",
        "    if(x['antecedents'] > input):\n",
        "      for y in x['consequents']:\n",
        "        if(len(sett) == 4):\n",
        "          return sett\n",
        "        sett.add(y)\n",
        "        if(len(sett) == 4):\n",
        "          return sett\n",
        "\n",
        "  return sett\n"
      ],
      "execution_count": 112,
      "outputs": []
    },
    {
      "cell_type": "markdown",
      "metadata": {
        "id": "C_pjz9g-hc0a"
      },
      "source": [
        "# **NOTE**\n",
        "\n",
        "\n",
        "*   Performed recommendations on hard-coded values\n",
        "*   Will work \n",
        "\n"
      ]
    },
    {
      "cell_type": "code",
      "metadata": {
        "colab": {
          "base_uri": "https://localhost:8080/"
        },
        "id": "cJGeeSrdq18z",
        "outputId": "1fcfd747-9b07-4b62-8b31-e7e447069bfd"
      },
      "source": [
        "\n",
        "arr = list()\n",
        "arr.append(frozenset({1}))\n",
        "arr.append(frozenset({5, 720, 1196}))\n",
        "arr.append(frozenset({1, 1210}))\n",
        "\n",
        "import csv\n",
        "with open('output.csv', 'w', newline='') as file:\n",
        "  writer = csv.writer(file)\n",
        "  writer.writerow([\"movies\", \"recommendation\"])\n",
        "  for input in arr:\n",
        "    print('The given input is:\\n')\n",
        "    input_str = \"\"\n",
        "    for x in input:\n",
        "      input_str += str(id_to_title[x]) + ', '\n",
        "      print(id_to_title[x])\n",
        "\n",
        "    output = solve(input)\n",
        "\n",
        "    print('\\nThe recommended movies are:\\n')\n",
        "    final_str = \"\"\n",
        "    for x in output:\n",
        "      final_str += id_to_title[x] + ', '\n",
        "      print(id_to_title[x])\n",
        "    \n",
        "    writer.writerow([input_str, final_str])\n",
        "\n",
        "    print('\\n\\n')"
      ],
      "execution_count": 113,
      "outputs": [
        {
          "output_type": "stream",
          "name": "stdout",
          "text": [
            "The given input is:\n",
            "\n",
            "Toy Story (1995)\n",
            "\n",
            "The recommended movies are:\n",
            "\n",
            "Emperor's New Groove, The (2000)\n",
            "Toy Story 2 (1999)\n",
            "Asterix and the Vikings (Astérix et les Vikings) (2006)\n",
            "Monsters, Inc. (2001)\n",
            "\n",
            "\n",
            "\n",
            "The given input is:\n",
            "\n",
            "Wallace & Gromit: The Best of Aardman Animation (1996)\n",
            "Star Wars: Episode V - The Empire Strikes Back (1980)\n",
            "Father of the Bride Part II (1995)\n",
            "\n",
            "The recommended movies are:\n",
            "\n",
            "Jurassic Park (1993)\n",
            "Toy Story (1995)\n",
            "Independence Day (a.k.a. ID4) (1996)\n",
            "Terminator, The (1984)\n",
            "\n",
            "\n",
            "\n",
            "The given input is:\n",
            "\n",
            "Toy Story (1995)\n",
            "Star Wars: Episode VI - Return of the Jedi (1983)\n",
            "\n",
            "The recommended movies are:\n",
            "\n",
            "Jurassic Park (1993)\n",
            "Pulp Fiction (1994)\n",
            "Indiana Jones and the Last Crusade (1989)\n",
            "Star Wars: Episode V - The Empire Strikes Back (1980)\n",
            "\n",
            "\n",
            "\n"
          ]
        }
      ]
    },
    {
      "cell_type": "code",
      "metadata": {
        "colab": {
          "base_uri": "https://localhost:8080/",
          "height": 423
        },
        "id": "29Wo7gwp3joC",
        "outputId": "d93c42a7-4952-4a50-af0e-5e29de43e2fc"
      },
      "source": [
        "from mlxtend.frequent_patterns import fpmax\n",
        "max_freq_itset=fpmax(data, min_support=0.1, use_colnames=True)\n",
        "\n",
        "max_freq_itset"
      ],
      "execution_count": 101,
      "outputs": [
        {
          "output_type": "execute_result",
          "data": {
            "text/html": [
              "<div>\n",
              "<style scoped>\n",
              "    .dataframe tbody tr th:only-of-type {\n",
              "        vertical-align: middle;\n",
              "    }\n",
              "\n",
              "    .dataframe tbody tr th {\n",
              "        vertical-align: top;\n",
              "    }\n",
              "\n",
              "    .dataframe thead th {\n",
              "        text-align: right;\n",
              "    }\n",
              "</style>\n",
              "<table border=\"1\" class=\"dataframe\">\n",
              "  <thead>\n",
              "    <tr style=\"text-align: right;\">\n",
              "      <th></th>\n",
              "      <th>support</th>\n",
              "      <th>itemsets</th>\n",
              "    </tr>\n",
              "  </thead>\n",
              "  <tbody>\n",
              "    <tr>\n",
              "      <th>0</th>\n",
              "      <td>0.100000</td>\n",
              "      <td>(3527)</td>\n",
              "    </tr>\n",
              "    <tr>\n",
              "      <th>1</th>\n",
              "      <td>0.100000</td>\n",
              "      <td>(51255)</td>\n",
              "    </tr>\n",
              "    <tr>\n",
              "      <th>2</th>\n",
              "      <td>0.100000</td>\n",
              "      <td>(30793)</td>\n",
              "    </tr>\n",
              "    <tr>\n",
              "      <th>3</th>\n",
              "      <td>0.100000</td>\n",
              "      <td>(2321)</td>\n",
              "    </tr>\n",
              "    <tr>\n",
              "      <th>4</th>\n",
              "      <td>0.100000</td>\n",
              "      <td>(3253)</td>\n",
              "    </tr>\n",
              "    <tr>\n",
              "      <th>...</th>\n",
              "      <td>...</td>\n",
              "      <td>...</td>\n",
              "    </tr>\n",
              "    <tr>\n",
              "      <th>32764</th>\n",
              "      <td>0.109836</td>\n",
              "      <td>(356, 296, 2571, 110, 593, 318)</td>\n",
              "    </tr>\n",
              "    <tr>\n",
              "      <th>32765</th>\n",
              "      <td>0.100000</td>\n",
              "      <td>(480, 356, 260, 2571, 593, 318)</td>\n",
              "    </tr>\n",
              "    <tr>\n",
              "      <th>32766</th>\n",
              "      <td>0.103279</td>\n",
              "      <td>(480, 356, 296, 2571, 593, 318)</td>\n",
              "    </tr>\n",
              "    <tr>\n",
              "      <th>32767</th>\n",
              "      <td>0.104918</td>\n",
              "      <td>(480, 260, 296, 2571, 593, 318)</td>\n",
              "    </tr>\n",
              "    <tr>\n",
              "      <th>32768</th>\n",
              "      <td>0.108197</td>\n",
              "      <td>(480, 260, 356, 296, 593, 318)</td>\n",
              "    </tr>\n",
              "  </tbody>\n",
              "</table>\n",
              "<p>32769 rows × 2 columns</p>\n",
              "</div>"
            ],
            "text/plain": [
              "        support                         itemsets\n",
              "0      0.100000                           (3527)\n",
              "1      0.100000                          (51255)\n",
              "2      0.100000                          (30793)\n",
              "3      0.100000                           (2321)\n",
              "4      0.100000                           (3253)\n",
              "...         ...                              ...\n",
              "32764  0.109836  (356, 296, 2571, 110, 593, 318)\n",
              "32765  0.100000  (480, 356, 260, 2571, 593, 318)\n",
              "32766  0.103279  (480, 356, 296, 2571, 593, 318)\n",
              "32767  0.104918  (480, 260, 296, 2571, 593, 318)\n",
              "32768  0.108197   (480, 260, 356, 296, 593, 318)\n",
              "\n",
              "[32769 rows x 2 columns]"
            ]
          },
          "metadata": {},
          "execution_count": 101
        }
      ]
    },
    {
      "cell_type": "code",
      "metadata": {
        "colab": {
          "base_uri": "https://localhost:8080/",
          "height": 1000
        },
        "id": "XXx3ag533ezf",
        "outputId": "4777766f-16f0-4eec-b109-6a0f0da3da9a"
      },
      "source": [
        "max_freq_itset = max_freq_itset.sort_values('itemsets')\n",
        "import graphviz\n",
        "from graphviz import Digraph, Graph\n",
        "\n",
        "g = Graph('parent')\n",
        "\n",
        "count=0\n",
        "maxlength=0\n",
        "for x in max_freq_itset['itemsets']:\n",
        "  maxlength=max(maxlength, len(x))\n",
        "\n",
        "lis=[None]*maxlength\n",
        "count0=[0]*maxlength\n",
        "first=[-1]*maxlength\n",
        "\n",
        "for i in range(maxlength):\n",
        "  lis[i]=Graph()\n",
        "  lis[i].attr(rank='same')\n",
        "\n",
        "for x in max_freq_itset['itemsets']:\n",
        "  if(count0[len(x)-1]<10):\n",
        "    lis[len(x)-1].node(str(count), str(x))\n",
        "    if(count0[len(x)-1]==0):\n",
        "      first[len(x)-1]=count\n",
        "    count0[len(x)-1]=count0[len(x)-1]+1\n",
        "  count=count+1\n",
        "\n",
        "abc=0\n",
        "prev=first[0]\n",
        "while(prev==-1):\n",
        "  abc=abc+1\n",
        "\n",
        "for i in range(1, maxlength-1):\n",
        "  if not first[i]==-1: \n",
        "    g.edge(str(prev),str(first[i]),style='invis')\n",
        "    prev=first[i]\n",
        "\n",
        "for i in range(maxlength-1):\n",
        "  g.subgraph(lis[i])\n",
        "\n",
        "print(g.source)\n",
        "\n",
        "g.render(filename='g1.dot')"
      ],
      "execution_count": 104,
      "outputs": [
        {
          "output_type": "stream",
          "name": "stdout",
          "text": [
            "graph parent {\n",
            "\t0 -- 1270 [style=invis]\n",
            "\t1270 -- 127 [style=invis]\n",
            "\t127 -- 2 [style=invis]\n",
            "\t2 -- 4 [style=invis]\n",
            "\t4 -- 1 [style=invis]\n",
            "\t1 -- 6 [style=invis]\n",
            "\t6 -- 159 [style=invis]\n",
            "\t159 -- 3437 [style=invis]\n",
            "\t{\n",
            "\t\trank=same\n",
            "\t\t0 [label=\"frozenset({3527})\"]\n",
            "\t\t21763 [label=\"frozenset({50872})\"]\n",
            "\t\t21764 [label=\"frozenset({1201})\"]\n",
            "\t\t21772 [label=\"frozenset({1079})\"]\n",
            "\t\t21780 [label=\"frozenset({1407})\"]\n",
            "\t\t21781 [label=\"frozenset({11})\"]\n",
            "\t\t21782 [label=\"frozenset({3408})\"]\n",
            "\t\t21784 [label=\"frozenset({4034})\"]\n",
            "\t\t21786 [label=\"frozenset({89745})\"]\n",
            "\t\t21787 [label=\"frozenset({520})\"]\n",
            "\t}\n",
            "\t{\n",
            "\t\trank=same\n",
            "\t\t1270 [label=\"frozenset({590, 1198})\"]\n",
            "\t\t1271 [label=\"frozenset({590, 1270})\"]\n",
            "\t\t2679 [label=\"frozenset({377, 7153})\"]\n",
            "\t\t2680 [label=\"frozenset({5952, 377})\"]\n",
            "\t\t3480 [label=\"frozenset({3578, 150})\"]\n",
            "\t\t4503 [label=\"frozenset({588, 1214})\"]\n",
            "\t\t4504 [label=\"frozenset({6539, 1214})\"]\n",
            "\t\t4702 [label=\"frozenset({1210, 595})\"]\n",
            "\t\t4715 [label=\"frozenset({2571, 595})\"]\n",
            "\t\t4716 [label=\"frozenset({595, 527})\"]\n",
            "\t}\n",
            "\t{\n",
            "\t\trank=same\n",
            "\t\t127 [label=\"frozenset({608, 4306, 2959})\"]\n",
            "\t\t161 [label=\"frozenset({608, 4306, 318})\"]\n",
            "\t\t162 [label=\"frozenset({608, 4306, 260})\"]\n",
            "\t\t163 [label=\"frozenset({608, 4993, 4306})\"]\n",
            "\t\t164 [label=\"frozenset({608, 4306, 5952})\"]\n",
            "\t\t165 [label=\"frozenset({4306, 356, 150})\"]\n",
            "\t\t166 [label=\"frozenset({4306, 2571, 150})\"]\n",
            "\t\t167 [label=\"frozenset({1, 4306, 150})\"]\n",
            "\t\t168 [label=\"frozenset({4306, 50, 2959})\"]\n",
            "\t\t169 [label=\"frozenset({4306, 2571, 50})\"]\n",
            "\t}\n",
            "\t{\n",
            "\t\trank=same\n",
            "\t\t2 [label=\"frozenset({1, 356, 589, 1580})\"]\n",
            "\t\t3 [label=\"frozenset({2571, 1580, 589, 318})\"]\n",
            "\t\t14 [label=\"frozenset({1, 780, 1580, 589})\"]\n",
            "\t\t32 [label=\"frozenset({296, 2028, 589, 1580})\"]\n",
            "\t\t45 [label=\"frozenset({356, 1580, 589, 2028})\"]\n",
            "\t\t46 [label=\"frozenset({296, 2762, 1580, 780})\"]\n",
            "\t\t49 [label=\"frozenset({1580, 356, 589, 1270})\"]\n",
            "\t\t61 [label=\"frozenset({1, 2571, 1580, 589})\"]\n",
            "\t\t81 [label=\"frozenset({2858, 2571, 1580, 318})\"]\n",
            "\t\t82 [label=\"frozenset({1580, 2858, 356, 318})\"]\n",
            "\t}\n",
            "\t{\n",
            "\t\trank=same\n",
            "\t\t4 [label=\"frozenset({356, 2762, 2571, 2028, 1580})\"]\n",
            "\t\t8 [label=\"frozenset({2762, 2571, 2028, 1580, 1210})\"]\n",
            "\t\t9 [label=\"frozenset({356, 296, 2762, 2571, 1580})\"]\n",
            "\t\t10 [label=\"frozenset({356, 260, 296, 2762, 1580})\"]\n",
            "\t\t12 [label=\"frozenset({296, 2762, 2571, 2028, 1580})\"]\n",
            "\t\t15 [label=\"frozenset({296, 2762, 2571, 1580, 1210})\"]\n",
            "\t\t16 [label=\"frozenset({356, 2762, 2571, 1580, 589})\"]\n",
            "\t\t18 [label=\"frozenset({296, 2762, 2571, 1580, 589})\"]\n",
            "\t\t19 [label=\"frozenset({260, 296, 2762, 1580, 589})\"]\n",
            "\t\t20 [label=\"frozenset({2762, 2571, 2028, 589, 1580})\"]\n",
            "\t}\n",
            "\t{\n",
            "\t\trank=same\n",
            "\t\t1 [label=\"frozenset({1, 260, 1196, 589, 1580, 1210})\"]\n",
            "\t\t5 [label=\"frozenset({260, 2762, 2571, 1196, 1580, 2028})\"]\n",
            "\t\t7 [label=\"frozenset({260, 2762, 1196, 1580, 2028, 1210})\"]\n",
            "\t\t11 [label=\"frozenset({260, 296, 2762, 2571, 1196, 1580})\"]\n",
            "\t\t13 [label=\"frozenset({260, 296, 2762, 1196, 1580, 1210})\"]\n",
            "\t\t25 [label=\"frozenset({2762, 2571, 1196, 780, 1580, 1210})\"]\n",
            "\t\t27 [label=\"frozenset({260, 2762, 2571, 780, 589, 1580})\"]\n",
            "\t\t28 [label=\"frozenset({260, 2762, 2571, 1196, 780, 1580})\"]\n",
            "\t\t34 [label=\"frozenset({480, 356, 260, 780, 589, 1580})\"]\n",
            "\t\t38 [label=\"frozenset({480, 260, 1196, 589, 1580, 2028})\"]\n",
            "\t}\n",
            "\t{\n",
            "\t\trank=same\n",
            "\t\t6 [label=\"frozenset({356, 260, 2762, 2571, 1196, 1580, 1210})\"]\n",
            "\t\t17 [label=\"frozenset({356, 260, 2762, 1196, 589, 1580, 1210})\"]\n",
            "\t\t26 [label=\"frozenset({260, 2762, 1196, 589, 780, 1580, 1210})\"]\n",
            "\t\t29 [label=\"frozenset({260, 2762, 2571, 1196, 589, 1580, 1210})\"]\n",
            "\t\t30 [label=\"frozenset({480, 260, 1196, 589, 1580, 1270, 1210})\"]\n",
            "\t\t31 [label=\"frozenset({356, 260, 2571, 1196, 589, 1580, 1210})\"]\n",
            "\t\t33 [label=\"frozenset({356, 260, 1196, 780, 589, 1580, 1210})\"]\n",
            "\t\t35 [label=\"frozenset({480, 356, 260, 1196, 589, 1580, 1210})\"]\n",
            "\t\t42 [label=\"frozenset({260, 2571, 1196, 1580, 589, 2028, 1210})\"]\n",
            "\t\t47 [label=\"frozenset({260, 2571, 1196, 589, 1580, 1270, 1210})\"]\n",
            "\t}\n",
            "\t{\n",
            "\t\trank=same\n",
            "\t\t159 [label=\"frozenset({480, 260, 2571, 1196, 780, 589, 1580, 1210})\"]\n",
            "\t\t173 [label=\"frozenset({480, 260, 356, 2571, 1196, 780, 1580, 1210})\"]\n",
            "\t\t177 [label=\"frozenset({480, 260, 296, 2571, 1196, 780, 1580, 1210})\"]\n",
            "\t\t178 [label=\"frozenset({260, 356, 296, 2571, 1196, 780, 1580, 1210})\"]\n",
            "\t\t208 [label=\"frozenset({480, 260, 2571, 1196, 780, 1580, 1270, 1210})\"]\n",
            "\t\t209 [label=\"frozenset({480, 260, 356, 1196, 780, 1580, 1270, 1210})\"]\n",
            "\t\t511 [label=\"frozenset({4993, 260, 356, 2571, 1196, 2959, 4306, 1210})\"]\n",
            "\t\t684 [label=\"frozenset({5952, 260, 2571, 1196, 2959, 7153, 4306, 1210})\"]\n",
            "\t\t2276 [label=\"frozenset({260, 356, 296, 2571, 1196, 2959, 1270, 1210})\"]\n",
            "\t\t2288 [label=\"frozenset({480, 260, 356, 2571, 1196, 2959, 1270, 1210})\"]\n",
            "\t}\n",
            "\t{\n",
            "\t\trank=same\n",
            "\t\t3437 [label=\"frozenset({5952, 4993, 260, 356, 2571, 1196, 7153, 4306, 1210})\"]\n",
            "\t\t3729 [label=\"frozenset({4993, 260, 356, 296, 2571, 1196, 2959, 3578, 1210})\"]\n",
            "\t\t3821 [label=\"frozenset({5952, 4993, 260, 356, 2571, 1196, 2959, 7153, 3578})\"]\n",
            "\t\t11318 [label=\"frozenset({480, 260, 356, 296, 2571, 1196, 780, 589, 1210})\"]\n",
            "\t\t11593 [label=\"frozenset({480, 260, 356, 296, 2571, 1196, 589, 2959, 1210})\"]\n",
            "\t\t11607 [label=\"frozenset({480, 260, 356, 296, 2571, 1196, 780, 2959, 1210})\"]\n",
            "\t\t13104 [label=\"frozenset({480, 260, 356, 2762, 2571, 1196, 780, 589, 1210})\"]\n",
            "\t\t13108 [label=\"frozenset({480, 260, 296, 2762, 2571, 1196, 780, 589, 1210})\"]\n",
            "\t\t14450 [label=\"frozenset({5952, 4993, 260, 356, 2571, 1196, 780, 7153, 1210})\"]\n",
            "\t\t14451 [label=\"frozenset({480, 5952, 4993, 260, 2571, 1196, 780, 7153, 1210})\"]\n",
            "\t}\n",
            "}\n"
          ]
        },
        {
          "output_type": "execute_result",
          "data": {
            "application/vnd.google.colaboratory.intrinsic+json": {
              "type": "string"
            },
            "text/plain": [
              "'g1.dot.pdf'"
            ]
          },
          "metadata": {},
          "execution_count": 104
        }
      ]
    }
  ]
}